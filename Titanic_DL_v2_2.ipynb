{
  "nbformat": 4,
  "nbformat_minor": 0,
  "metadata": {
    "colab": {
      "name": "Titanic DL v2.2.ipynb",
      "provenance": [],
      "collapsed_sections": [],
      "toc_visible": true,
      "include_colab_link": true
    },
    "kernelspec": {
      "name": "python3",
      "display_name": "Python 3"
    }
  },
  "cells": [
    {
      "cell_type": "markdown",
      "metadata": {
        "id": "view-in-github",
        "colab_type": "text"
      },
      "source": [
        "<a href=\"https://colab.research.google.com/github/ramkumarr02/Titanic/blob/master/Titanic_DL_v2_2.ipynb\" target=\"_parent\"><img src=\"https://colab.research.google.com/assets/colab-badge.svg\" alt=\"Open In Colab\"/></a>"
      ]
    },
    {
      "cell_type": "markdown",
      "metadata": {
        "id": "WkbuT7q-y89U",
        "colab_type": "text"
      },
      "source": [
        "# Env Setup"
      ]
    },
    {
      "cell_type": "markdown",
      "metadata": {
        "id": "cn2wF7ZNPLN_",
        "colab_type": "text"
      },
      "source": [
        "## Packages\n",
        "\n"
      ]
    },
    {
      "cell_type": "code",
      "metadata": {
        "id": "kjyW1FMoqlDS",
        "colab_type": "code",
        "outputId": "0648e149-beee-4b10-cee5-65a78cc40ae4",
        "colab": {
          "base_uri": "https://localhost:8080/",
          "height": 33
        }
      },
      "source": [
        "import numpy as np\n",
        "import pandas as pd\n",
        "from sklearn.pipeline import Pipeline, make_pipeline\n",
        "from sklearn.preprocessing import FunctionTransformer, StandardScaler, OneHotEncoder\n",
        "from sklearn.model_selection import train_test_split\n",
        "from sklearn import metrics\n",
        "try:\n",
        "  # %tensorflow_version only exists in Colab.\n",
        "  %tensorflow_version 2.x\n",
        "except Exception:\n",
        "  pass\n",
        "\n",
        "import tensorflow as tf\n",
        "tf.executing_eagerly()\n",
        "\n",
        "print(tf.__version__)"
      ],
      "execution_count": 0,
      "outputs": [
        {
          "output_type": "stream",
          "text": [
            "2.1.0-rc1\n"
          ],
          "name": "stdout"
        }
      ]
    },
    {
      "cell_type": "markdown",
      "metadata": {
        "id": "sJRZM7glP26m",
        "colab_type": "text"
      },
      "source": [
        "## Load Data\n"
      ]
    },
    {
      "cell_type": "code",
      "metadata": {
        "id": "O5Wwbddv5ydr",
        "colab_type": "code",
        "outputId": "25c3ea40-2657-4cec-9dac-dd56a728b2ff",
        "colab": {
          "base_uri": "https://localhost:8080/",
          "height": 33
        }
      },
      "source": [
        "from google.colab import drive\n",
        "drive.mount('/content/drive')"
      ],
      "execution_count": 0,
      "outputs": [
        {
          "output_type": "stream",
          "text": [
            "Drive already mounted at /content/drive; to attempt to forcibly remount, call drive.mount(\"/content/drive\", force_remount=True).\n"
          ],
          "name": "stdout"
        }
      ]
    },
    {
      "cell_type": "code",
      "metadata": {
        "id": "a9HDWb0n6Cni",
        "colab_type": "code",
        "colab": {}
      },
      "source": [
        "train = pd.read_csv('/content/drive/My Drive/Colab Notebooks/Deep Learning/Titanic/train.csv')\n",
        "test = pd.read_csv('/content/drive/My Drive/Colab Notebooks/Deep Learning/Titanic/test.csv')\n",
        "\n",
        "train_copy = train.copy()\n",
        "test_copy = test.copy()\n",
        "test_org = test.copy()\n",
        "\n",
        "del train['PassengerId']\n",
        "del test['PassengerId']\n",
        "\n",
        "del train_copy['PassengerId']\n",
        "del test_copy['PassengerId']"
      ],
      "execution_count": 0,
      "outputs": []
    },
    {
      "cell_type": "code",
      "metadata": {
        "id": "P38HjZPRbo1y",
        "colab_type": "code",
        "outputId": "565e5b09-6e72-41d1-85cc-da31e99d63a4",
        "colab": {
          "base_uri": "https://localhost:8080/",
          "height": 98
        }
      },
      "source": [
        "train_with_age = train.copy()\n",
        "train_with_age['SurName'], train_with_age['Name'] = train_with_age['Name'].str.split(',', 1).str\n",
        "train_with_age['Title'], train_with_age['Name'] = train_with_age['Name'].str.split('.', 1).str\n",
        "\n",
        "train_with_age_notnull = train_with_age[train_with_age['Age'].notna()]\n",
        "\n",
        "age_map = train_with_age_notnull.groupby(['Title'])['Age'].mean().astype('int').to_dict()\n",
        "age_map[' Ms'] = 28\n",
        "\n",
        "temp = train_with_age['Age']\n",
        "\n",
        "for i in range(0,len(temp)):    \n",
        "    if pd.isnull(temp[i]):                 \n",
        "        train.Age[i] = age_map[train_with_age.Title[i]]"
      ],
      "execution_count": 0,
      "outputs": [
        {
          "output_type": "stream",
          "text": [
            "/usr/local/lib/python3.6/dist-packages/ipykernel_launcher.py:14: SettingWithCopyWarning: \n",
            "A value is trying to be set on a copy of a slice from a DataFrame\n",
            "\n",
            "See the caveats in the documentation: http://pandas.pydata.org/pandas-docs/stable/user_guide/indexing.html#returning-a-view-versus-a-copy\n",
            "  \n"
          ],
          "name": "stderr"
        }
      ]
    },
    {
      "cell_type": "code",
      "metadata": {
        "id": "4i-tg2Ojk_B3",
        "colab_type": "code",
        "outputId": "97fc5a2d-6e1e-4b4b-be6d-11c37764525d",
        "colab": {
          "base_uri": "https://localhost:8080/",
          "height": 98
        }
      },
      "source": [
        "test_with_age = test.copy()\n",
        "test_with_age['SurName'], test_with_age['Name'] = test_with_age['Name'].str.split(',', 1).str\n",
        "test_with_age['Title'], test_with_age['Name'] = test_with_age['Name'].str.split('.', 1).str\n",
        "\n",
        "#test_with_age_notnull = test_with_age[test_with_age['Age'].notna()]\n",
        "#age_map = test_with_age_notnull.groupby(['Title'])['Age'].mean().astype('int').to_dict()\n",
        "\n",
        "\n",
        "temp = test_with_age['Age']\n",
        "\n",
        "for i in range(0,len(temp)):    \n",
        "    if pd.isnull(temp[i]):                 \n",
        "        test.Age[i] = age_map[test_with_age.Title[i]]"
      ],
      "execution_count": 0,
      "outputs": [
        {
          "output_type": "stream",
          "text": [
            "/usr/local/lib/python3.6/dist-packages/ipykernel_launcher.py:13: SettingWithCopyWarning: \n",
            "A value is trying to be set on a copy of a slice from a DataFrame\n",
            "\n",
            "See the caveats in the documentation: http://pandas.pydata.org/pandas-docs/stable/user_guide/indexing.html#returning-a-view-versus-a-copy\n",
            "  del sys.path[0]\n"
          ],
          "name": "stderr"
        }
      ]
    },
    {
      "cell_type": "markdown",
      "metadata": {
        "id": "_1zIE_FtQKze",
        "colab_type": "text"
      },
      "source": [
        "# Functions"
      ]
    },
    {
      "cell_type": "markdown",
      "metadata": {
        "id": "6GGmu1NsuBSB",
        "colab_type": "text"
      },
      "source": [
        "## Feature Engineering (Split columns)\n"
      ]
    },
    {
      "cell_type": "code",
      "metadata": {
        "id": "EKIncI8916w5",
        "colab_type": "code",
        "colab": {}
      },
      "source": [
        "def column_split(df):\n",
        "\n",
        "    try:\n",
        "        df['SurName'], df['Name'] = df['Name'].str.split(',', 1).str\n",
        "        df['Title'], df['Name'] = df['Name'].str.split('.', 1).str\n",
        "        df['Cabin_Section'] = df[df['Cabin'].notna()]['Cabin'].astype(str).str[0]\n",
        "        df['Cabin_Nums'] = df[df['Cabin'].notna()]['Cabin'].str.count(\" \") + 1\n",
        "    except:\n",
        "        pass\n",
        "    \n",
        "    return(df)"
      ],
      "execution_count": 0,
      "outputs": []
    },
    {
      "cell_type": "markdown",
      "metadata": {
        "id": "CSrdgRewuIBY",
        "colab_type": "text"
      },
      "source": [
        "## One hot Encoder"
      ]
    },
    {
      "cell_type": "code",
      "metadata": {
        "id": "V-14L3pQKGx9",
        "colab_type": "code",
        "colab": {}
      },
      "source": [
        "def encode_str(df):\n",
        "\n",
        "    df = pd.get_dummies(df, columns=['Sex', 'Embarked','Title','Cabin_Section', 'Ticket', 'SurName'])\n",
        "    df = df.round(1)\n",
        "\n",
        "    text_cols = list(df.select_dtypes(include=['object']).columns)\n",
        "    df = df.drop(text_cols, axis=1)\n",
        "    \n",
        "    return(df)"
      ],
      "execution_count": 0,
      "outputs": []
    },
    {
      "cell_type": "markdown",
      "metadata": {
        "id": "8rzS2y68uMpY",
        "colab_type": "text"
      },
      "source": [
        "## Data PreProcessor (All above processing)\n"
      ]
    },
    {
      "cell_type": "code",
      "metadata": {
        "id": "12qVBIjbJm7t",
        "colab_type": "code",
        "colab": {}
      },
      "source": [
        "def data_preprocess(df):\n",
        "\n",
        "    df = column_split(df)\n",
        "    df = encode_str(df)\n",
        "    df.fillna(0, inplace = True)\n",
        " \n",
        "    return(df)"
      ],
      "execution_count": 0,
      "outputs": []
    },
    {
      "cell_type": "markdown",
      "metadata": {
        "id": "znlKgj0auVQg",
        "colab_type": "text"
      },
      "source": [
        "## Scale Data"
      ]
    },
    {
      "cell_type": "code",
      "metadata": {
        "colab_type": "code",
        "id": "2paQ1lZZscZH",
        "colab": {}
      },
      "source": [
        "def scale_data(df):\n",
        "\n",
        "    scaled_features = StandardScaler().fit_transform(df.values)\n",
        "    df = pd.DataFrame(scaled_features, index=df.index, columns=df.columns)\n",
        " \n",
        "    return(df)"
      ],
      "execution_count": 0,
      "outputs": []
    },
    {
      "cell_type": "markdown",
      "metadata": {
        "id": "KDbwvGoOeaaz",
        "colab_type": "text"
      },
      "source": [
        "## Add & Remove columns to match the training data"
      ]
    },
    {
      "cell_type": "code",
      "metadata": {
        "id": "WUAExbk8kEK1",
        "colab_type": "code",
        "colab": {}
      },
      "source": [
        "def match_cols(df1, df2, col_name):\n",
        "    miss_cols = set(df1[col_name]) - set(df2[col_name])\n",
        "    print(len(miss_cols))    \n",
        "\n",
        "    for col in miss_cols:\n",
        "        df2 = df2.append([{col_name:col}], ignore_index=True)\n",
        "\n",
        "    miss_cols = set(df1[col_name]) - set(df2[col_name])\n",
        "    print(len(miss_cols)) \n",
        "\n",
        "    return(df2)  "
      ],
      "execution_count": 0,
      "outputs": []
    },
    {
      "cell_type": "markdown",
      "metadata": {
        "id": "Vfq2Epffu60d",
        "colab_type": "text"
      },
      "source": [
        "# Training"
      ]
    },
    {
      "cell_type": "markdown",
      "metadata": {
        "id": "nzra6Tre5nC9",
        "colab_type": "text"
      },
      "source": [
        "## PreP, Split and Scale data"
      ]
    },
    {
      "cell_type": "code",
      "metadata": {
        "id": "S-Cvq-GMBiEN",
        "colab_type": "code",
        "colab": {}
      },
      "source": [
        "# Replicate dataframe multiple times\n",
        "train = pd.concat([train]*20, ignore_index=True)"
      ],
      "execution_count": 0,
      "outputs": []
    },
    {
      "cell_type": "code",
      "metadata": {
        "id": "sjBRao0Pywga",
        "colab_type": "code",
        "colab": {}
      },
      "source": [
        "df = data_preprocess(train)"
      ],
      "execution_count": 0,
      "outputs": []
    },
    {
      "cell_type": "code",
      "metadata": {
        "id": "3jKnOWotzUTa",
        "colab_type": "code",
        "colab": {}
      },
      "source": [
        "train_x, valid_x, train_y, valid_y = train_test_split(df.loc[:, df.columns != 'Survived'], df['Survived'],train_size = 0.8,random_state = 1)"
      ],
      "execution_count": 0,
      "outputs": []
    },
    {
      "cell_type": "code",
      "metadata": {
        "id": "Gpg_CiUwOTEX",
        "colab_type": "code",
        "colab": {}
      },
      "source": [
        "scaled_train_x = scale_data(train_x)"
      ],
      "execution_count": 0,
      "outputs": []
    },
    {
      "cell_type": "markdown",
      "metadata": {
        "id": "lXY3ikvZvFYm",
        "colab_type": "text"
      },
      "source": [
        "## Model Layers"
      ]
    },
    {
      "cell_type": "code",
      "metadata": {
        "id": "_ItuzokY_QGu",
        "colab_type": "code",
        "colab": {}
      },
      "source": [
        "Layer_nodes = 512"
      ],
      "execution_count": 0,
      "outputs": []
    },
    {
      "cell_type": "code",
      "metadata": {
        "id": "JTq61J4Kp3mZ",
        "colab_type": "code",
        "colab": {}
      },
      "source": [
        "model = tf.keras.Sequential([\n",
        "  tf.keras.layers.Dense(Layer_nodes, activation='relu', input_shape=[len(train_x.keys())]),\n",
        "  tf.keras.layers.Dense(Layer_nodes, activation='relu'),              \n",
        "  tf.keras.layers.Dense(Layer_nodes, activation='relu'),      \n",
        "  tf.keras.layers.Dense(Layer_nodes, activation='relu'),      \n",
        "  tf.keras.layers.Dense(Layer_nodes, activation='relu'),      \n",
        "  tf.keras.layers.Dense(1, activation='sigmoid')\n",
        "])"
      ],
      "execution_count": 0,
      "outputs": []
    },
    {
      "cell_type": "markdown",
      "metadata": {
        "id": "AlXNcC-PvIFh",
        "colab_type": "text"
      },
      "source": [
        "## Model Compiler"
      ]
    },
    {
      "cell_type": "code",
      "metadata": {
        "id": "ZYlodnVyv0WE",
        "colab_type": "code",
        "colab": {}
      },
      "source": [
        "model.compile(\n",
        "    loss='binary_crossentropy',\n",
        "    optimizer='adam',    \n",
        "    metrics=['accuracy'])"
      ],
      "execution_count": 0,
      "outputs": []
    },
    {
      "cell_type": "markdown",
      "metadata": {
        "id": "pbcn_ylPvUCC",
        "colab_type": "text"
      },
      "source": [
        "## Fitting"
      ]
    },
    {
      "cell_type": "code",
      "metadata": {
        "id": "6qCjE_iAv0Qb",
        "colab_type": "code",
        "colab": {}
      },
      "source": [
        "epoch_val = 10"
      ],
      "execution_count": 0,
      "outputs": []
    },
    {
      "cell_type": "code",
      "metadata": {
        "id": "rqSZQjcwWchH",
        "colab_type": "code",
        "outputId": "706f198d-997c-4d44-99ad-e2464956a057",
        "colab": {
          "base_uri": "https://localhost:8080/",
          "height": 375
        }
      },
      "source": [
        "model.fit(scaled_train_x, train_y, epochs=epoch_val)"
      ],
      "execution_count": 0,
      "outputs": [
        {
          "output_type": "stream",
          "text": [
            "Train on 14256 samples\n",
            "Epoch 1/10\n",
            "14256/14256 [==============================] - 11s 776us/sample - loss: 0.0709 - accuracy: 0.9671\n",
            "Epoch 2/10\n",
            "14256/14256 [==============================] - 10s 675us/sample - loss: 0.0065 - accuracy: 0.9964\n",
            "Epoch 3/10\n",
            "14256/14256 [==============================] - 9s 647us/sample - loss: 0.0057 - accuracy: 0.9965\n",
            "Epoch 4/10\n",
            "14256/14256 [==============================] - 9s 654us/sample - loss: 0.0051 - accuracy: 0.9968\n",
            "Epoch 5/10\n",
            "14256/14256 [==============================] - 9s 654us/sample - loss: 0.0040 - accuracy: 0.9972\n",
            "Epoch 6/10\n",
            "14256/14256 [==============================] - 9s 642us/sample - loss: 0.0032 - accuracy: 0.9977\n",
            "Epoch 7/10\n",
            "14256/14256 [==============================] - 9s 653us/sample - loss: 0.0032 - accuracy: 0.9975\n",
            "Epoch 8/10\n",
            "14256/14256 [==============================] - 9s 665us/sample - loss: 0.0032 - accuracy: 0.9978\n",
            "Epoch 9/10\n",
            "14256/14256 [==============================] - 9s 654us/sample - loss: 0.0274 - accuracy: 0.9928\n",
            "Epoch 10/10\n",
            "14256/14256 [==============================] - 9s 653us/sample - loss: 0.0035 - accuracy: 0.9975\n"
          ],
          "name": "stdout"
        },
        {
          "output_type": "execute_result",
          "data": {
            "text/plain": [
              "<tensorflow.python.keras.callbacks.History at 0x7f939ef53358>"
            ]
          },
          "metadata": {
            "tags": []
          },
          "execution_count": 197
        }
      ]
    },
    {
      "cell_type": "markdown",
      "metadata": {
        "id": "FIUK0CsK56fy",
        "colab_type": "text"
      },
      "source": [
        "## Validation"
      ]
    },
    {
      "cell_type": "markdown",
      "metadata": {
        "id": "oOtZIcR_6FSi",
        "colab_type": "text"
      },
      "source": [
        "### Scale and Convert valid_dfs to Tensor"
      ]
    },
    {
      "cell_type": "code",
      "metadata": {
        "id": "v9cp0EBFvxQB",
        "colab_type": "code",
        "colab": {}
      },
      "source": [
        "scaled_valid_x = scale_data(valid_x)"
      ],
      "execution_count": 0,
      "outputs": []
    },
    {
      "cell_type": "markdown",
      "metadata": {
        "id": "y_Im03cd69pk",
        "colab_type": "text"
      },
      "source": [
        "### Model Evaluation"
      ]
    },
    {
      "cell_type": "code",
      "metadata": {
        "id": "Hkc-aZg3sljO",
        "colab_type": "code",
        "outputId": "58d88504-f864-479a-c05d-45bc8fc3341f",
        "colab": {
          "base_uri": "https://localhost:8080/",
          "height": 82
        }
      },
      "source": [
        "test_loss, test_accuracy = model.evaluate(scaled_valid_x, valid_y)\n",
        "print('\\n\\nTest Loss {}, Test Accuracy {}'.format(test_loss, test_accuracy))"
      ],
      "execution_count": 0,
      "outputs": [
        {
          "output_type": "stream",
          "text": [
            "3564/3564 [==============================] - 1s 217us/sample - loss: 0.0035 - accuracy: 0.9975\n",
            "\n",
            "\n",
            "Test Loss 0.003459188268602108, Test Accuracy 0.997474730014801\n"
          ],
          "name": "stdout"
        }
      ]
    },
    {
      "cell_type": "markdown",
      "metadata": {
        "id": "TIkJbAcj2Mx_",
        "colab_type": "text"
      },
      "source": [
        "# Testing"
      ]
    },
    {
      "cell_type": "markdown",
      "metadata": {
        "id": "cIETrzGLeTf5",
        "colab_type": "text"
      },
      "source": [
        "## Data Prep"
      ]
    },
    {
      "cell_type": "markdown",
      "metadata": {
        "id": "wZm0eT5-25mt",
        "colab_type": "text"
      },
      "source": [
        "### Add Train-Test Categories to Test"
      ]
    },
    {
      "cell_type": "code",
      "metadata": {
        "id": "uR75lwJGk-m7",
        "colab_type": "code",
        "outputId": "8d497b99-4006-4da8-9f10-60802d61dcaf",
        "colab": {
          "base_uri": "https://localhost:8080/",
          "height": 115
        }
      },
      "source": [
        "test = match_cols(train_copy, test, 'Cabin')\n",
        "test = match_cols(train_copy, test, 'Name')\n",
        "test = match_cols(train_copy, test, 'Ticket')"
      ],
      "execution_count": 0,
      "outputs": [
        {
          "output_type": "stream",
          "text": [
            "110\n",
            "0\n",
            "889\n",
            "0\n",
            "566\n",
            "0\n"
          ],
          "name": "stdout"
        }
      ]
    },
    {
      "cell_type": "markdown",
      "metadata": {
        "id": "6ZEZWbmnecII",
        "colab_type": "text"
      },
      "source": [
        "### PreP Full_train & Test data"
      ]
    },
    {
      "cell_type": "code",
      "metadata": {
        "id": "7p4NR0PhSo1a",
        "colab_type": "code",
        "colab": {}
      },
      "source": [
        "pp_train = data_preprocess(train)\n",
        "pp_test = data_preprocess(test)"
      ],
      "execution_count": 0,
      "outputs": []
    },
    {
      "cell_type": "markdown",
      "metadata": {
        "id": "xFa8xeE938Nv",
        "colab_type": "text"
      },
      "source": [
        "### Remove Test-Train categories from Test"
      ]
    },
    {
      "cell_type": "code",
      "metadata": {
        "id": "W45VURhlw4yD",
        "colab_type": "code",
        "outputId": "7ad35363-931c-476d-d846-10613790c4f6",
        "colab": {
          "base_uri": "https://localhost:8080/",
          "height": 33
        }
      },
      "source": [
        "miss_cols = set(pp_test.columns) - set(pp_train.columns)\n",
        "print(len(miss_cols))   \n",
        "\n",
        "pp_test = pp_test.drop(miss_cols, axis=1)    \n",
        "\n",
        "## Remove excess rows\n",
        "pp_test = pp_test[pp_test.sum(axis=1) >= 4]\n",
        "pp_train = pp_train[pp_train.sum(axis=1) >= 4]"
      ],
      "execution_count": 0,
      "outputs": [
        {
          "output_type": "stream",
          "text": [
            "457\n"
          ],
          "name": "stdout"
        }
      ]
    },
    {
      "cell_type": "markdown",
      "metadata": {
        "id": "4VgDLodZ4mrE",
        "colab_type": "text"
      },
      "source": [
        "### Scale Test and train Data"
      ]
    },
    {
      "cell_type": "code",
      "metadata": {
        "id": "3hCi2e3AlvlS",
        "colab_type": "code",
        "colab": {}
      },
      "source": [
        "scaled_test_data = scale_data(pp_test)\n",
        "\n",
        "target = pp_train.pop('Survived')\n",
        "scaled_full_data = scale_data(pp_train)"
      ],
      "execution_count": 0,
      "outputs": []
    },
    {
      "cell_type": "markdown",
      "metadata": {
        "id": "ajywVrnn4yuo",
        "colab_type": "text"
      },
      "source": [
        "## Fit Model to Full Data"
      ]
    },
    {
      "cell_type": "code",
      "metadata": {
        "id": "vvbxc3-0KMfK",
        "colab_type": "code",
        "outputId": "69eec91f-1bcd-4f37-e7e5-0f19b8f04b83",
        "colab": {
          "base_uri": "https://localhost:8080/",
          "height": 375
        }
      },
      "source": [
        "model.fit(scaled_full_data, target, epochs=epoch_val)"
      ],
      "execution_count": 0,
      "outputs": [
        {
          "output_type": "stream",
          "text": [
            "Train on 17820 samples\n",
            "Epoch 1/10\n",
            "17820/17820 [==============================] - 12s 653us/sample - loss: 0.0031 - accuracy: 0.9977\n",
            "Epoch 2/10\n",
            "17820/17820 [==============================] - 12s 659us/sample - loss: 0.0031 - accuracy: 0.9978\n",
            "Epoch 3/10\n",
            "17820/17820 [==============================] - 12s 652us/sample - loss: 0.0031 - accuracy: 0.9976\n",
            "Epoch 4/10\n",
            "17820/17820 [==============================] - 12s 683us/sample - loss: 0.0031 - accuracy: 0.9976\n",
            "Epoch 5/10\n",
            "17820/17820 [==============================] - 12s 661us/sample - loss: 0.0031 - accuracy: 0.9979\n",
            "Epoch 6/10\n",
            "17820/17820 [==============================] - 12s 657us/sample - loss: 0.0031 - accuracy: 0.9977\n",
            "Epoch 7/10\n",
            "17820/17820 [==============================] - 12s 647us/sample - loss: 0.0031 - accuracy: 0.9970\n",
            "Epoch 8/10\n",
            "17820/17820 [==============================] - 12s 649us/sample - loss: 0.0031 - accuracy: 0.9976\n",
            "Epoch 9/10\n",
            "17820/17820 [==============================] - 12s 658us/sample - loss: 0.0031 - accuracy: 0.9977\n",
            "Epoch 10/10\n",
            "17820/17820 [==============================] - 12s 674us/sample - loss: 0.0031 - accuracy: 0.9975\n"
          ],
          "name": "stdout"
        },
        {
          "output_type": "execute_result",
          "data": {
            "text/plain": [
              "<tensorflow.python.keras.callbacks.History at 0x7f93b6d62d30>"
            ]
          },
          "metadata": {
            "tags": []
          },
          "execution_count": 204
        }
      ]
    },
    {
      "cell_type": "markdown",
      "metadata": {
        "id": "ccvqhm26eftg",
        "colab_type": "text"
      },
      "source": [
        "## Predict"
      ]
    },
    {
      "cell_type": "code",
      "metadata": {
        "id": "WEieF01dCP1V",
        "colab_type": "code",
        "colab": {}
      },
      "source": [
        "predictions = model.predict(scaled_test_data)\n",
        "predictions = np.round(predictions, decimals= 0).tolist()\n",
        "flat_list = [item for sublist in predictions for item in sublist]\n",
        "flat_list = np.array(flat_list).astype(int)\n",
        "\n",
        "test_org['Survived'] = flat_list"
      ],
      "execution_count": 0,
      "outputs": []
    },
    {
      "cell_type": "markdown",
      "metadata": {
        "id": "-9Ww_ZMCelBS",
        "colab_type": "text"
      },
      "source": [
        "## Write into a CSV"
      ]
    },
    {
      "cell_type": "code",
      "metadata": {
        "id": "0nDukmbyV4du",
        "colab_type": "code",
        "colab": {}
      },
      "source": [
        "df_results = test_org[['PassengerId', 'Survived']]\n",
        "df_results.to_csv('results.csv', index = False)"
      ],
      "execution_count": 0,
      "outputs": []
    },
    {
      "cell_type": "code",
      "metadata": {
        "id": "9yygI5Q0rs_3",
        "colab_type": "code",
        "colab": {}
      },
      "source": [
        "#scaled_train_x.columns"
      ],
      "execution_count": 0,
      "outputs": []
    },
    {
      "cell_type": "code",
      "metadata": {
        "id": "LJ8zJOOpt_6i",
        "colab_type": "code",
        "colab": {}
      },
      "source": [
        "#scaled_test_data.columns"
      ],
      "execution_count": 0,
      "outputs": []
    },
    {
      "cell_type": "code",
      "metadata": {
        "id": "1TNowQJFdoGB",
        "colab_type": "code",
        "outputId": "acd63919-f1e5-44e6-88d9-604b74243ddf",
        "colab": {
          "base_uri": "https://localhost:8080/",
          "height": 66
        }
      },
      "source": [
        "df_results['Survived'].value_counts()"
      ],
      "execution_count": 0,
      "outputs": [
        {
          "output_type": "execute_result",
          "data": {
            "text/plain": [
              "0    240\n",
              "1    178\n",
              "Name: Survived, dtype: int64"
            ]
          },
          "metadata": {
            "tags": []
          },
          "execution_count": 209
        }
      ]
    },
    {
      "cell_type": "code",
      "metadata": {
        "colab_type": "code",
        "id": "7kLoJ-s2Tkia",
        "outputId": "6b224738-a5a3-496c-acc6-4a9ee40c1821",
        "colab": {
          "base_uri": "https://localhost:8080/",
          "height": 391
        }
      },
      "source": [
        "df_results"
      ],
      "execution_count": 0,
      "outputs": [
        {
          "output_type": "execute_result",
          "data": {
            "text/html": [
              "<div>\n",
              "<style scoped>\n",
              "    .dataframe tbody tr th:only-of-type {\n",
              "        vertical-align: middle;\n",
              "    }\n",
              "\n",
              "    .dataframe tbody tr th {\n",
              "        vertical-align: top;\n",
              "    }\n",
              "\n",
              "    .dataframe thead th {\n",
              "        text-align: right;\n",
              "    }\n",
              "</style>\n",
              "<table border=\"1\" class=\"dataframe\">\n",
              "  <thead>\n",
              "    <tr style=\"text-align: right;\">\n",
              "      <th></th>\n",
              "      <th>PassengerId</th>\n",
              "      <th>Survived</th>\n",
              "    </tr>\n",
              "  </thead>\n",
              "  <tbody>\n",
              "    <tr>\n",
              "      <th>0</th>\n",
              "      <td>892</td>\n",
              "      <td>0</td>\n",
              "    </tr>\n",
              "    <tr>\n",
              "      <th>1</th>\n",
              "      <td>893</td>\n",
              "      <td>1</td>\n",
              "    </tr>\n",
              "    <tr>\n",
              "      <th>2</th>\n",
              "      <td>894</td>\n",
              "      <td>0</td>\n",
              "    </tr>\n",
              "    <tr>\n",
              "      <th>3</th>\n",
              "      <td>895</td>\n",
              "      <td>0</td>\n",
              "    </tr>\n",
              "    <tr>\n",
              "      <th>4</th>\n",
              "      <td>896</td>\n",
              "      <td>1</td>\n",
              "    </tr>\n",
              "    <tr>\n",
              "      <th>...</th>\n",
              "      <td>...</td>\n",
              "      <td>...</td>\n",
              "    </tr>\n",
              "    <tr>\n",
              "      <th>413</th>\n",
              "      <td>1305</td>\n",
              "      <td>0</td>\n",
              "    </tr>\n",
              "    <tr>\n",
              "      <th>414</th>\n",
              "      <td>1306</td>\n",
              "      <td>1</td>\n",
              "    </tr>\n",
              "    <tr>\n",
              "      <th>415</th>\n",
              "      <td>1307</td>\n",
              "      <td>0</td>\n",
              "    </tr>\n",
              "    <tr>\n",
              "      <th>416</th>\n",
              "      <td>1308</td>\n",
              "      <td>0</td>\n",
              "    </tr>\n",
              "    <tr>\n",
              "      <th>417</th>\n",
              "      <td>1309</td>\n",
              "      <td>1</td>\n",
              "    </tr>\n",
              "  </tbody>\n",
              "</table>\n",
              "<p>418 rows × 2 columns</p>\n",
              "</div>"
            ],
            "text/plain": [
              "     PassengerId  Survived\n",
              "0            892         0\n",
              "1            893         1\n",
              "2            894         0\n",
              "3            895         0\n",
              "4            896         1\n",
              "..           ...       ...\n",
              "413         1305         0\n",
              "414         1306         1\n",
              "415         1307         0\n",
              "416         1308         0\n",
              "417         1309         1\n",
              "\n",
              "[418 rows x 2 columns]"
            ]
          },
          "metadata": {
            "tags": []
          },
          "execution_count": 210
        }
      ]
    }
  ]
}