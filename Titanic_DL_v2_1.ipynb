{
  "nbformat": 4,
  "nbformat_minor": 0,
  "metadata": {
    "colab": {
      "name": "Titanic DL v2.1.ipynb",
      "provenance": [],
      "collapsed_sections": [],
      "toc_visible": true,
      "include_colab_link": true
    },
    "kernelspec": {
      "name": "python3",
      "display_name": "Python 3"
    }
  },
  "cells": [
    {
      "cell_type": "markdown",
      "metadata": {
        "id": "view-in-github",
        "colab_type": "text"
      },
      "source": [
        "<a href=\"https://colab.research.google.com/github/ramkumarr02/Titanic/blob/master/Titanic_DL_v2_1.ipynb\" target=\"_parent\"><img src=\"https://colab.research.google.com/assets/colab-badge.svg\" alt=\"Open In Colab\"/></a>"
      ]
    },
    {
      "cell_type": "markdown",
      "metadata": {
        "id": "WkbuT7q-y89U",
        "colab_type": "text"
      },
      "source": [
        "# Env Setup"
      ]
    },
    {
      "cell_type": "markdown",
      "metadata": {
        "id": "cn2wF7ZNPLN_",
        "colab_type": "text"
      },
      "source": [
        "## Packages\n",
        "\n"
      ]
    },
    {
      "cell_type": "code",
      "metadata": {
        "id": "kjyW1FMoqlDS",
        "colab_type": "code",
        "outputId": "519ca202-b084-45e0-d3b6-444b082ec538",
        "colab": {
          "base_uri": "https://localhost:8080/",
          "height": 33
        }
      },
      "source": [
        "import numpy as np\n",
        "import pandas as pd\n",
        "from sklearn.pipeline import Pipeline, make_pipeline\n",
        "from sklearn.preprocessing import FunctionTransformer, StandardScaler, OneHotEncoder\n",
        "from sklearn.model_selection import train_test_split\n",
        "from sklearn import metrics\n",
        "try:\n",
        "  # %tensorflow_version only exists in Colab.\n",
        "  %tensorflow_version 2.x\n",
        "except Exception:\n",
        "  pass\n",
        "\n",
        "import tensorflow as tf\n",
        "tf.executing_eagerly()\n",
        "\n",
        "print(tf.__version__)"
      ],
      "execution_count": 0,
      "outputs": [
        {
          "output_type": "stream",
          "text": [
            "2.0.0\n"
          ],
          "name": "stdout"
        }
      ]
    },
    {
      "cell_type": "markdown",
      "metadata": {
        "id": "sJRZM7glP26m",
        "colab_type": "text"
      },
      "source": [
        "## Load Data\n"
      ]
    },
    {
      "cell_type": "code",
      "metadata": {
        "id": "O5Wwbddv5ydr",
        "colab_type": "code",
        "outputId": "e84e0590-9b75-4833-bc95-dac8a7381796",
        "colab": {
          "base_uri": "https://localhost:8080/",
          "height": 33
        }
      },
      "source": [
        "from google.colab import drive\n",
        "drive.mount('/content/drive')"
      ],
      "execution_count": 0,
      "outputs": [
        {
          "output_type": "stream",
          "text": [
            "Drive already mounted at /content/drive; to attempt to forcibly remount, call drive.mount(\"/content/drive\", force_remount=True).\n"
          ],
          "name": "stdout"
        }
      ]
    },
    {
      "cell_type": "code",
      "metadata": {
        "id": "a9HDWb0n6Cni",
        "colab_type": "code",
        "colab": {}
      },
      "source": [
        "train = pd.read_csv('/content/drive/My Drive/Colab Notebooks/Deep Learning/Titanic/train.csv')\n",
        "test = pd.read_csv('/content/drive/My Drive/Colab Notebooks/Deep Learning/Titanic/test.csv')\n",
        "\n",
        "train_copy = train.copy()\n",
        "test_copy = test.copy()"
      ],
      "execution_count": 0,
      "outputs": []
    },
    {
      "cell_type": "markdown",
      "metadata": {
        "id": "_1zIE_FtQKze",
        "colab_type": "text"
      },
      "source": [
        "# Functions"
      ]
    },
    {
      "cell_type": "markdown",
      "metadata": {
        "id": "6GGmu1NsuBSB",
        "colab_type": "text"
      },
      "source": [
        "## Feature Engineering (Split columns)\n"
      ]
    },
    {
      "cell_type": "code",
      "metadata": {
        "id": "EKIncI8916w5",
        "colab_type": "code",
        "colab": {}
      },
      "source": [
        "def column_split(df):\n",
        "\n",
        "    try:\n",
        "        df['SurName'], df['Name'] = df['Name'].str.split(',', 1).str\n",
        "        df['Title'], df['Name'] = df['Name'].str.split('.', 1).str\n",
        "        df['Cabin_Section'] = df[df['Cabin'].notna()]['Cabin'].astype(str).str[0]\n",
        "        df['Cabin_Nums'] = df[df['Cabin'].notna()]['Cabin'].str.count(\" \") + 1\n",
        "    except:\n",
        "        pass\n",
        "    \n",
        "    return(df)"
      ],
      "execution_count": 0,
      "outputs": []
    },
    {
      "cell_type": "markdown",
      "metadata": {
        "id": "CSrdgRewuIBY",
        "colab_type": "text"
      },
      "source": [
        "## One hot Encoder"
      ]
    },
    {
      "cell_type": "code",
      "metadata": {
        "id": "V-14L3pQKGx9",
        "colab_type": "code",
        "colab": {}
      },
      "source": [
        "def encode_str(df):\n",
        "\n",
        "    df = pd.get_dummies(df, columns=['Sex', 'Embarked','Title','Cabin_Section', 'Ticket'])\n",
        "    df = df.round(1)\n",
        "\n",
        "    text_cols = list(df.select_dtypes(include=['object']).columns)\n",
        "    df = df.drop(text_cols, axis=1)\n",
        "    \n",
        "    return(df)"
      ],
      "execution_count": 0,
      "outputs": []
    },
    {
      "cell_type": "markdown",
      "metadata": {
        "id": "8rzS2y68uMpY",
        "colab_type": "text"
      },
      "source": [
        "## Data PreProcessor (All above processing)\n"
      ]
    },
    {
      "cell_type": "code",
      "metadata": {
        "id": "12qVBIjbJm7t",
        "colab_type": "code",
        "colab": {}
      },
      "source": [
        "def data_preprocess(df):\n",
        "\n",
        "    df = column_split(df)\n",
        "    df = encode_str(df)\n",
        "    df.fillna(0, inplace = True)\n",
        " \n",
        "    return(df)"
      ],
      "execution_count": 0,
      "outputs": []
    },
    {
      "cell_type": "markdown",
      "metadata": {
        "id": "znlKgj0auVQg",
        "colab_type": "text"
      },
      "source": [
        "## Scale Data"
      ]
    },
    {
      "cell_type": "code",
      "metadata": {
        "colab_type": "code",
        "id": "2paQ1lZZscZH",
        "colab": {}
      },
      "source": [
        "def scale_data(df):\n",
        "\n",
        "    scaled_features = StandardScaler().fit_transform(df.values)\n",
        "    df = pd.DataFrame(scaled_features, index=df.index, columns=df.columns)\n",
        " \n",
        "    return(df)"
      ],
      "execution_count": 0,
      "outputs": []
    },
    {
      "cell_type": "markdown",
      "metadata": {
        "id": "KDbwvGoOeaaz",
        "colab_type": "text"
      },
      "source": [
        "## Add & Remove columns to match the training data"
      ]
    },
    {
      "cell_type": "code",
      "metadata": {
        "id": "WUAExbk8kEK1",
        "colab_type": "code",
        "colab": {}
      },
      "source": [
        "def match_cols(df1, df2, col_name):\n",
        "    miss_cols = set(df1[col_name]) - set(df2[col_name])\n",
        "    print(len(miss_cols))    \n",
        "\n",
        "    for col in miss_cols:\n",
        "        df2 = df2.append([{col_name:col}], ignore_index=True)\n",
        "\n",
        "    miss_cols = set(df1[col_name]) - set(df2[col_name])\n",
        "    print(len(miss_cols)) \n",
        "\n",
        "    return(df2)  "
      ],
      "execution_count": 0,
      "outputs": []
    },
    {
      "cell_type": "markdown",
      "metadata": {
        "id": "Vfq2Epffu60d",
        "colab_type": "text"
      },
      "source": [
        "# Training"
      ]
    },
    {
      "cell_type": "markdown",
      "metadata": {
        "id": "nzra6Tre5nC9",
        "colab_type": "text"
      },
      "source": [
        "## PreP, Split and Scale data"
      ]
    },
    {
      "cell_type": "code",
      "metadata": {
        "id": "S-Cvq-GMBiEN",
        "colab_type": "code",
        "colab": {}
      },
      "source": [
        "# Replicate dataframe multiple times\n",
        "train = pd.concat([train]*20, ignore_index=True)"
      ],
      "execution_count": 0,
      "outputs": []
    },
    {
      "cell_type": "code",
      "metadata": {
        "id": "sjBRao0Pywga",
        "colab_type": "code",
        "colab": {}
      },
      "source": [
        "df = data_preprocess(train)"
      ],
      "execution_count": 0,
      "outputs": []
    },
    {
      "cell_type": "code",
      "metadata": {
        "id": "3jKnOWotzUTa",
        "colab_type": "code",
        "colab": {}
      },
      "source": [
        "train_x, valid_x, train_y, valid_y = train_test_split(df.loc[:, df.columns != 'Survived'], df['Survived'],train_size = 0.8,random_state = 1)"
      ],
      "execution_count": 0,
      "outputs": []
    },
    {
      "cell_type": "code",
      "metadata": {
        "id": "Gpg_CiUwOTEX",
        "colab_type": "code",
        "colab": {}
      },
      "source": [
        "scaled_train_x = scale_data(train_x)"
      ],
      "execution_count": 0,
      "outputs": []
    },
    {
      "cell_type": "markdown",
      "metadata": {
        "id": "lXY3ikvZvFYm",
        "colab_type": "text"
      },
      "source": [
        "## Model Layers"
      ]
    },
    {
      "cell_type": "code",
      "metadata": {
        "id": "JTq61J4Kp3mZ",
        "colab_type": "code",
        "colab": {}
      },
      "source": [
        "model = tf.keras.Sequential([\n",
        "  tf.keras.layers.Dense(128, activation='relu', input_shape=[len(train_x.keys())]),\n",
        "  tf.keras.layers.Dense(128, activation='relu'),              \n",
        "  tf.keras.layers.Dense(128, activation='relu'),\n",
        "  tf.keras.layers.Dense(1, activation='sigmoid')\n",
        "])"
      ],
      "execution_count": 0,
      "outputs": []
    },
    {
      "cell_type": "markdown",
      "metadata": {
        "id": "AlXNcC-PvIFh",
        "colab_type": "text"
      },
      "source": [
        "## Model Compiler"
      ]
    },
    {
      "cell_type": "code",
      "metadata": {
        "id": "ZYlodnVyv0WE",
        "colab_type": "code",
        "colab": {}
      },
      "source": [
        "model.compile(\n",
        "    loss='binary_crossentropy',\n",
        "    optimizer='adam',    \n",
        "    metrics=['accuracy'])"
      ],
      "execution_count": 0,
      "outputs": []
    },
    {
      "cell_type": "markdown",
      "metadata": {
        "id": "pbcn_ylPvUCC",
        "colab_type": "text"
      },
      "source": [
        "## Fitting"
      ]
    },
    {
      "cell_type": "code",
      "metadata": {
        "id": "rqSZQjcwWchH",
        "colab_type": "code",
        "outputId": "fc549d57-80f8-46e9-dec2-d1c72f9fbaba",
        "colab": {
          "base_uri": "https://localhost:8080/",
          "height": 736
        }
      },
      "source": [
        "model.fit(scaled_train_x, train_y, epochs=20)"
      ],
      "execution_count": 0,
      "outputs": [
        {
          "output_type": "stream",
          "text": [
            "WARNING:tensorflow:Falling back from v2 loop because of error: Failed to find data adapter that can handle input: <class 'pandas.core.frame.DataFrame'>, <class 'NoneType'>\n",
            "Train on 14256 samples\n",
            "Epoch 1/20\n",
            "14256/14256 [==============================] - 2s 107us/sample - loss: 0.0909 - accuracy: 0.9609\n",
            "Epoch 2/20\n",
            "14256/14256 [==============================] - 1s 100us/sample - loss: 0.0132 - accuracy: 0.9941\n",
            "Epoch 3/20\n",
            "14256/14256 [==============================] - 1s 100us/sample - loss: 0.0114 - accuracy: 0.9942\n",
            "Epoch 4/20\n",
            "14256/14256 [==============================] - 1s 101us/sample - loss: 0.0109 - accuracy: 0.9950\n",
            "Epoch 5/20\n",
            "14256/14256 [==============================] - 1s 98us/sample - loss: 0.0092 - accuracy: 0.9945\n",
            "Epoch 6/20\n",
            "14256/14256 [==============================] - 1s 99us/sample - loss: 0.0092 - accuracy: 0.9952\n",
            "Epoch 7/20\n",
            "14256/14256 [==============================] - 1s 101us/sample - loss: 0.0087 - accuracy: 0.9954\n",
            "Epoch 8/20\n",
            "14256/14256 [==============================] - 1s 98us/sample - loss: 0.0089 - accuracy: 0.9949\n",
            "Epoch 9/20\n",
            "14256/14256 [==============================] - 1s 104us/sample - loss: 0.0087 - accuracy: 0.9952\n",
            "Epoch 10/20\n",
            "14256/14256 [==============================] - 1s 100us/sample - loss: 0.0089 - accuracy: 0.9952\n",
            "Epoch 11/20\n",
            "14256/14256 [==============================] - 1s 97us/sample - loss: 0.0083 - accuracy: 0.9955\n",
            "Epoch 12/20\n",
            "14256/14256 [==============================] - 1s 96us/sample - loss: 0.0077 - accuracy: 0.9952\n",
            "Epoch 13/20\n",
            "14256/14256 [==============================] - 1s 102us/sample - loss: 0.0080 - accuracy: 0.9952\n",
            "Epoch 14/20\n",
            "14256/14256 [==============================] - 2s 105us/sample - loss: 0.0075 - accuracy: 0.9959\n",
            "Epoch 15/20\n",
            "14256/14256 [==============================] - 1s 100us/sample - loss: 0.0073 - accuracy: 0.9959\n",
            "Epoch 16/20\n",
            "14256/14256 [==============================] - 1s 102us/sample - loss: 0.0135 - accuracy: 0.9957\n",
            "Epoch 17/20\n",
            "14256/14256 [==============================] - 1s 104us/sample - loss: 0.0206 - accuracy: 0.9951\n",
            "Epoch 18/20\n",
            "14256/14256 [==============================] - 1s 102us/sample - loss: 0.0200 - accuracy: 0.9955\n",
            "Epoch 19/20\n",
            "14256/14256 [==============================] - 1s 101us/sample - loss: 0.0416 - accuracy: 0.9907\n",
            "Epoch 20/20\n",
            "14256/14256 [==============================] - 1s 103us/sample - loss: 0.0088 - accuracy: 0.9954\n"
          ],
          "name": "stdout"
        },
        {
          "output_type": "execute_result",
          "data": {
            "text/plain": [
              "<tensorflow.python.keras.callbacks.History at 0x7f3365ed3eb8>"
            ]
          },
          "metadata": {
            "tags": []
          },
          "execution_count": 105
        }
      ]
    },
    {
      "cell_type": "markdown",
      "metadata": {
        "id": "FIUK0CsK56fy",
        "colab_type": "text"
      },
      "source": [
        "## Validation"
      ]
    },
    {
      "cell_type": "markdown",
      "metadata": {
        "id": "oOtZIcR_6FSi",
        "colab_type": "text"
      },
      "source": [
        "### Scale and Convert valid_dfs to Tensor"
      ]
    },
    {
      "cell_type": "code",
      "metadata": {
        "id": "v9cp0EBFvxQB",
        "colab_type": "code",
        "colab": {}
      },
      "source": [
        "scaled_valid_x = scale_data(valid_x)"
      ],
      "execution_count": 0,
      "outputs": []
    },
    {
      "cell_type": "markdown",
      "metadata": {
        "id": "y_Im03cd69pk",
        "colab_type": "text"
      },
      "source": [
        "### Model Evaluation"
      ]
    },
    {
      "cell_type": "code",
      "metadata": {
        "id": "Hkc-aZg3sljO",
        "colab_type": "code",
        "outputId": "4b1ac774-5ec2-4e2e-ad8e-38b9a6ccfde6",
        "colab": {
          "base_uri": "https://localhost:8080/",
          "height": 118
        }
      },
      "source": [
        "test_loss, test_accuracy = model.evaluate(scaled_valid_x, valid_y)\n",
        "print('\\n\\nTest Loss {}, Test Accuracy {}'.format(test_loss, test_accuracy))"
      ],
      "execution_count": 0,
      "outputs": [
        {
          "output_type": "stream",
          "text": [
            "WARNING:tensorflow:Falling back from v2 loop because of error: Failed to find data adapter that can handle input: <class 'pandas.core.frame.DataFrame'>, <class 'NoneType'>\n",
            "3564/3564 [==============================] - 0s 41us/sample - loss: 0.0079 - accuracy: 0.9958\n",
            "\n",
            "\n",
            "Test Loss 0.007930606924168767, Test Accuracy 0.9957912564277649\n"
          ],
          "name": "stdout"
        }
      ]
    },
    {
      "cell_type": "markdown",
      "metadata": {
        "id": "TIkJbAcj2Mx_",
        "colab_type": "text"
      },
      "source": [
        "# Testing"
      ]
    },
    {
      "cell_type": "markdown",
      "metadata": {
        "id": "cIETrzGLeTf5",
        "colab_type": "text"
      },
      "source": [
        "## Data Prep"
      ]
    },
    {
      "cell_type": "markdown",
      "metadata": {
        "id": "wZm0eT5-25mt",
        "colab_type": "text"
      },
      "source": [
        "### Add Train-Test Categories to Test"
      ]
    },
    {
      "cell_type": "code",
      "metadata": {
        "id": "uR75lwJGk-m7",
        "colab_type": "code",
        "outputId": "7524a025-6afc-4b49-e158-30a3c5c11155",
        "colab": {
          "base_uri": "https://localhost:8080/",
          "height": 115
        }
      },
      "source": [
        "test_org = test.copy()\n",
        "\n",
        "test = match_cols(train_copy, test, 'Cabin')\n",
        "test = match_cols(train_copy, test, 'Name')\n",
        "test = match_cols(train_copy, test, 'Ticket')"
      ],
      "execution_count": 0,
      "outputs": [
        {
          "output_type": "stream",
          "text": [
            "110\n",
            "0\n",
            "889\n",
            "0\n",
            "566\n",
            "0\n"
          ],
          "name": "stdout"
        }
      ]
    },
    {
      "cell_type": "markdown",
      "metadata": {
        "id": "6ZEZWbmnecII",
        "colab_type": "text"
      },
      "source": [
        "### PreP Full_train & Test data"
      ]
    },
    {
      "cell_type": "code",
      "metadata": {
        "id": "7p4NR0PhSo1a",
        "colab_type": "code",
        "colab": {}
      },
      "source": [
        "pp_train = data_preprocess(train_copy)\n",
        "pp_test = data_preprocess(test)"
      ],
      "execution_count": 0,
      "outputs": []
    },
    {
      "cell_type": "markdown",
      "metadata": {
        "id": "xFa8xeE938Nv",
        "colab_type": "text"
      },
      "source": [
        "### Remove Test-Train categories from Test"
      ]
    },
    {
      "cell_type": "code",
      "metadata": {
        "id": "W45VURhlw4yD",
        "colab_type": "code",
        "outputId": "4e577b61-9592-4832-fef3-64ad79ea7538",
        "colab": {
          "base_uri": "https://localhost:8080/",
          "height": 33
        }
      },
      "source": [
        "miss_cols = set(pp_test.columns) - set(pp_train.columns)\n",
        "print(len(miss_cols))   \n",
        "\n",
        "pp_test = pp_test.drop(miss_cols, axis=1)    \n",
        "\n",
        "## Remove excess rows\n",
        "pp_test = pp_test[pp_test.sum(axis=1) >= 4]\n",
        "pp_train = pp_train[pp_train.sum(axis=1) >= 4]"
      ],
      "execution_count": 0,
      "outputs": [
        {
          "output_type": "stream",
          "text": [
            "249\n"
          ],
          "name": "stdout"
        }
      ]
    },
    {
      "cell_type": "markdown",
      "metadata": {
        "id": "4VgDLodZ4mrE",
        "colab_type": "text"
      },
      "source": [
        "### Scale Test and train Data"
      ]
    },
    {
      "cell_type": "code",
      "metadata": {
        "id": "3hCi2e3AlvlS",
        "colab_type": "code",
        "colab": {}
      },
      "source": [
        "scaled_test_data = scale_data(pp_test)\n",
        "\n",
        "target = pp_train.pop('Survived')\n",
        "scaled_full_data = scale_data(pp_train)"
      ],
      "execution_count": 0,
      "outputs": []
    },
    {
      "cell_type": "markdown",
      "metadata": {
        "id": "ajywVrnn4yuo",
        "colab_type": "text"
      },
      "source": [
        "## Fit Model to Full Data"
      ]
    },
    {
      "cell_type": "code",
      "metadata": {
        "id": "vvbxc3-0KMfK",
        "colab_type": "code",
        "outputId": "66e121cd-4a6e-4cd8-dd10-c539f0b96c64",
        "colab": {
          "base_uri": "https://localhost:8080/",
          "height": 736
        }
      },
      "source": [
        "model.fit(scaled_full_data, target, epochs=20)"
      ],
      "execution_count": 0,
      "outputs": [
        {
          "output_type": "stream",
          "text": [
            "WARNING:tensorflow:Falling back from v2 loop because of error: Failed to find data adapter that can handle input: <class 'pandas.core.frame.DataFrame'>, <class 'NoneType'>\n",
            "Train on 891 samples\n",
            "Epoch 1/20\n",
            "891/891 [==============================] - 0s 109us/sample - loss: 0.0090 - accuracy: 0.9955\n",
            "Epoch 2/20\n",
            "891/891 [==============================] - 0s 115us/sample - loss: 0.0080 - accuracy: 0.9955\n",
            "Epoch 3/20\n",
            "891/891 [==============================] - 0s 119us/sample - loss: 0.0080 - accuracy: 0.9955\n",
            "Epoch 4/20\n",
            "891/891 [==============================] - 0s 105us/sample - loss: 0.0077 - accuracy: 0.9966\n",
            "Epoch 5/20\n",
            "891/891 [==============================] - 0s 105us/sample - loss: 0.0078 - accuracy: 0.9955\n",
            "Epoch 6/20\n",
            "891/891 [==============================] - 0s 105us/sample - loss: 0.0079 - accuracy: 0.9955\n",
            "Epoch 7/20\n",
            "891/891 [==============================] - 0s 103us/sample - loss: 0.0078 - accuracy: 0.9955\n",
            "Epoch 8/20\n",
            "891/891 [==============================] - 0s 115us/sample - loss: 0.0077 - accuracy: 0.9966\n",
            "Epoch 9/20\n",
            "891/891 [==============================] - 0s 105us/sample - loss: 0.0076 - accuracy: 0.9955\n",
            "Epoch 10/20\n",
            "891/891 [==============================] - 0s 106us/sample - loss: 0.0083 - accuracy: 0.9955\n",
            "Epoch 11/20\n",
            "891/891 [==============================] - 0s 104us/sample - loss: 0.0078 - accuracy: 0.9955\n",
            "Epoch 12/20\n",
            "891/891 [==============================] - 0s 110us/sample - loss: 0.0078 - accuracy: 0.9955\n",
            "Epoch 13/20\n",
            "891/891 [==============================] - 0s 117us/sample - loss: 0.0079 - accuracy: 0.9955\n",
            "Epoch 14/20\n",
            "891/891 [==============================] - 0s 105us/sample - loss: 0.0076 - accuracy: 0.9966\n",
            "Epoch 15/20\n",
            "891/891 [==============================] - 0s 116us/sample - loss: 0.0075 - accuracy: 0.9966\n",
            "Epoch 16/20\n",
            "891/891 [==============================] - 0s 112us/sample - loss: 0.0077 - accuracy: 0.9955\n",
            "Epoch 17/20\n",
            "891/891 [==============================] - 0s 103us/sample - loss: 0.0075 - accuracy: 0.9955\n",
            "Epoch 18/20\n",
            "891/891 [==============================] - 0s 114us/sample - loss: 0.0077 - accuracy: 0.9955\n",
            "Epoch 19/20\n",
            "891/891 [==============================] - 0s 104us/sample - loss: 0.0080 - accuracy: 0.9955\n",
            "Epoch 20/20\n",
            "891/891 [==============================] - 0s 106us/sample - loss: 0.0076 - accuracy: 0.9955\n"
          ],
          "name": "stdout"
        },
        {
          "output_type": "execute_result",
          "data": {
            "text/plain": [
              "<tensorflow.python.keras.callbacks.History at 0x7f33665a45c0>"
            ]
          },
          "metadata": {
            "tags": []
          },
          "execution_count": 118
        }
      ]
    },
    {
      "cell_type": "markdown",
      "metadata": {
        "id": "ccvqhm26eftg",
        "colab_type": "text"
      },
      "source": [
        "## Predict"
      ]
    },
    {
      "cell_type": "code",
      "metadata": {
        "id": "WEieF01dCP1V",
        "colab_type": "code",
        "outputId": "e35fd4be-fbd8-4c03-80e9-d0efc24d2db2",
        "colab": {
          "base_uri": "https://localhost:8080/",
          "height": 53
        }
      },
      "source": [
        "predictions = model.predict(scaled_test_data)\n",
        "predictions = np.round(predictions, decimals= 0).tolist()\n",
        "flat_list = [item for sublist in predictions for item in sublist]\n",
        "flat_list = np.array(flat_list).astype(int)\n",
        "\n",
        "test_org['Survived'] = flat_list"
      ],
      "execution_count": 0,
      "outputs": [
        {
          "output_type": "stream",
          "text": [
            "WARNING:tensorflow:Falling back from v2 loop because of error: Failed to find data adapter that can handle input: <class 'pandas.core.frame.DataFrame'>, <class 'NoneType'>\n"
          ],
          "name": "stdout"
        }
      ]
    },
    {
      "cell_type": "markdown",
      "metadata": {
        "id": "-9Ww_ZMCelBS",
        "colab_type": "text"
      },
      "source": [
        "## Write into a CSV"
      ]
    },
    {
      "cell_type": "code",
      "metadata": {
        "id": "0nDukmbyV4du",
        "colab_type": "code",
        "colab": {}
      },
      "source": [
        "df_results = test_org[['PassengerId', 'Survived']]\n",
        "df_results.to_csv('results.csv', index = False)"
      ],
      "execution_count": 0,
      "outputs": []
    },
    {
      "cell_type": "code",
      "metadata": {
        "id": "9yygI5Q0rs_3",
        "colab_type": "code",
        "colab": {}
      },
      "source": [
        "#scaled_train_x.head(100).to_csv('train.csv')\n",
        "#scaled_test_data.head(100).to_csv('test.csv')"
      ],
      "execution_count": 0,
      "outputs": []
    },
    {
      "cell_type": "code",
      "metadata": {
        "id": "1TNowQJFdoGB",
        "colab_type": "code",
        "outputId": "7c68ca0e-bc3f-4b98-bb52-be894508a42f",
        "colab": {
          "base_uri": "https://localhost:8080/",
          "height": 66
        }
      },
      "source": [
        "df_results['Survived'].value_counts()"
      ],
      "execution_count": 0,
      "outputs": [
        {
          "output_type": "execute_result",
          "data": {
            "text/plain": [
              "0    261\n",
              "1    157\n",
              "Name: Survived, dtype: int64"
            ]
          },
          "metadata": {
            "tags": []
          },
          "execution_count": 123
        }
      ]
    },
    {
      "cell_type": "code",
      "metadata": {
        "colab_type": "code",
        "id": "7kLoJ-s2Tkia",
        "outputId": "ed30e37a-41c5-490f-934d-e5ddb90c73ba",
        "colab": {
          "base_uri": "https://localhost:8080/",
          "height": 391
        }
      },
      "source": [
        "df_results"
      ],
      "execution_count": 0,
      "outputs": [
        {
          "output_type": "execute_result",
          "data": {
            "text/html": [
              "<div>\n",
              "<style scoped>\n",
              "    .dataframe tbody tr th:only-of-type {\n",
              "        vertical-align: middle;\n",
              "    }\n",
              "\n",
              "    .dataframe tbody tr th {\n",
              "        vertical-align: top;\n",
              "    }\n",
              "\n",
              "    .dataframe thead th {\n",
              "        text-align: right;\n",
              "    }\n",
              "</style>\n",
              "<table border=\"1\" class=\"dataframe\">\n",
              "  <thead>\n",
              "    <tr style=\"text-align: right;\">\n",
              "      <th></th>\n",
              "      <th>PassengerId</th>\n",
              "      <th>Survived</th>\n",
              "    </tr>\n",
              "  </thead>\n",
              "  <tbody>\n",
              "    <tr>\n",
              "      <th>0</th>\n",
              "      <td>892</td>\n",
              "      <td>0</td>\n",
              "    </tr>\n",
              "    <tr>\n",
              "      <th>1</th>\n",
              "      <td>893</td>\n",
              "      <td>1</td>\n",
              "    </tr>\n",
              "    <tr>\n",
              "      <th>2</th>\n",
              "      <td>894</td>\n",
              "      <td>0</td>\n",
              "    </tr>\n",
              "    <tr>\n",
              "      <th>3</th>\n",
              "      <td>895</td>\n",
              "      <td>0</td>\n",
              "    </tr>\n",
              "    <tr>\n",
              "      <th>4</th>\n",
              "      <td>896</td>\n",
              "      <td>1</td>\n",
              "    </tr>\n",
              "    <tr>\n",
              "      <th>...</th>\n",
              "      <td>...</td>\n",
              "      <td>...</td>\n",
              "    </tr>\n",
              "    <tr>\n",
              "      <th>413</th>\n",
              "      <td>1305</td>\n",
              "      <td>0</td>\n",
              "    </tr>\n",
              "    <tr>\n",
              "      <th>414</th>\n",
              "      <td>1306</td>\n",
              "      <td>1</td>\n",
              "    </tr>\n",
              "    <tr>\n",
              "      <th>415</th>\n",
              "      <td>1307</td>\n",
              "      <td>0</td>\n",
              "    </tr>\n",
              "    <tr>\n",
              "      <th>416</th>\n",
              "      <td>1308</td>\n",
              "      <td>0</td>\n",
              "    </tr>\n",
              "    <tr>\n",
              "      <th>417</th>\n",
              "      <td>1309</td>\n",
              "      <td>1</td>\n",
              "    </tr>\n",
              "  </tbody>\n",
              "</table>\n",
              "<p>418 rows × 2 columns</p>\n",
              "</div>"
            ],
            "text/plain": [
              "     PassengerId  Survived\n",
              "0            892         0\n",
              "1            893         1\n",
              "2            894         0\n",
              "3            895         0\n",
              "4            896         1\n",
              "..           ...       ...\n",
              "413         1305         0\n",
              "414         1306         1\n",
              "415         1307         0\n",
              "416         1308         0\n",
              "417         1309         1\n",
              "\n",
              "[418 rows x 2 columns]"
            ]
          },
          "metadata": {
            "tags": []
          },
          "execution_count": 124
        }
      ]
    }
  ]
}